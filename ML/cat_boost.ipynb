{
 "cells": [
  {
   "cell_type": "code",
   "id": "initial_id",
   "metadata": {
    "collapsed": true,
    "ExecuteTime": {
     "end_time": "2025-03-10T08:47:06.867934Z",
     "start_time": "2025-03-10T08:47:06.863791Z"
    }
   },
   "source": [
    "import pandas as pd\n",
    "import numpy as np\n",
    "from catboost import CatBoostRegressor\n",
    "from sklearn.model_selection import train_test_split, KFold, GridSearchCV\n",
    "from sklearn.metrics import r2_score, root_mean_squared_error  # 수정: mean_squared_error 대신 root_mean_squared_error 사용"
   ],
   "outputs": [],
   "execution_count": 48
  },
  {
   "metadata": {
    "ExecuteTime": {
     "end_time": "2025-03-10T06:45:55.441461Z",
     "start_time": "2025-03-10T06:45:54.288440Z"
    }
   },
   "cell_type": "code",
   "source": [
    "df = pd.read_csv('../csv/visit_all_in_one.csv')\n",
    "\n",
    "df_filter = df[~df['TRAVEL_MISSION_CHECK'].isnull()].copy()  # 'TRAVEL_MISSION_CHECK' 컬럼에 결측치가 없는 행만을 복사"
   ],
   "id": "accd0ac1bdef544b",
   "outputs": [
    {
     "name": "stderr",
     "output_type": "stream",
     "text": [
      "C:\\Users\\user1\\AppData\\Local\\Temp\\ipykernel_5024\\923352349.py:1: DtypeWarning: Columns (8,9) have mixed types. Specify dtype option on import or set low_memory=False.\n",
      "  df = pd.read_csv('../csv/visit_all_in_one.csv')\n"
     ]
    }
   ],
   "execution_count": 29
  },
  {
   "metadata": {
    "ExecuteTime": {
     "end_time": "2025-03-10T06:45:56.783227Z",
     "start_time": "2025-03-10T06:45:56.510244Z"
    }
   },
   "cell_type": "code",
   "source": [
    "\n",
    "# 미션 = 여행목적으로 보여짐 한 컬럼에 최대 3개가 있지만 일단 맨 처음 1개만 사용\n",
    "df_filter.loc[:, 'TRAVEL_MISSION_INT'] = df_filter['TRAVEL_MISSION_CHECK'].str.split(';').str[0].astype(int)\n",
    "\n",
    "df_learning = df_filter[[\n",
    "    'GENDER',  # 성별\n",
    "    'AGE_GRP',  # 연령대\n",
    "    # 여행스타일\n",
    "    'TRAVEL_STYL_1', 'TRAVEL_STYL_2', 'TRAVEL_STYL_3', 'TRAVEL_STYL_4', 'TRAVEL_STYL_5', 'TRAVEL_STYL_6',\n",
    "    'TRAVEL_STYL_7', 'TRAVEL_STYL_8',\n",
    "    'TRAVEL_MOTIVE_1',  # 여행동기 (3까지 있음)\n",
    "    'TRAVEL_COMPANIONS_NUM',  # 동반자 수\n",
    "    'TRAVEL_MISSION_INT',  # 여행 목적 최우선순위\n",
    "    'VISIT_AREA_NM',  # 방문지명\n",
    "    'VISIT_AREA_TYPE_CD', # 방문지 유형 코드\n",
    "    'DGSTFN',  # 만족도\n",
    "]]\n",
    "\n",
    "df_learning = df_learning.dropna()\n",
    "\n",
    "df_learning['GENDER'] = df_learning['GENDER'].replace({'남': 1, '여': 0}).astype('int32')\n",
    "df_learning = df_learning[df_learning['VISIT_AREA_TYPE_CD'].isin(range(1, 9))]"
   ],
   "id": "fffab95f2ed3ae98",
   "outputs": [
    {
     "name": "stderr",
     "output_type": "stream",
     "text": [
      "C:\\Users\\user1\\AppData\\Local\\Temp\\ipykernel_5024\\3061882525.py:20: FutureWarning: Downcasting behavior in `replace` is deprecated and will be removed in a future version. To retain the old behavior, explicitly call `result.infer_objects(copy=False)`. To opt-in to the future behavior, set `pd.set_option('future.no_silent_downcasting', True)`\n",
      "  df_learning['GENDER'] = df_learning['GENDER'].replace({'남': 1, '여': 0}).astype('int32')\n"
     ]
    }
   ],
   "execution_count": 30
  },
  {
   "metadata": {
    "ExecuteTime": {
     "end_time": "2025-03-10T06:45:58.946756Z",
     "start_time": "2025-03-10T06:45:58.934912Z"
    }
   },
   "cell_type": "code",
   "source": [
    "# 범주형 변수 목록 (CatBoost에 전달)\n",
    "cat_features = ['GENDER', 'AGE_GRP', 'TRAVEL_STYL_1', 'TRAVEL_STYL_2', 'TRAVEL_STYL_3',\n",
    "                'TRAVEL_STYL_4', 'TRAVEL_STYL_5', 'TRAVEL_STYL_6', 'TRAVEL_STYL_7',\n",
    "                'TRAVEL_STYL_8', 'TRAVEL_MOTIVE_1', 'VISIT_AREA_TYPE_CD',\n",
    "                'TRAVEL_COMPANIONS_NUM', 'TRAVEL_MISSION_INT']\n",
    "df_learning[cat_features] = df_learning[cat_features].astype('int32')\n",
    "X = df_learning[cat_features]\n",
    "y = df_learning['DGSTFN']"
   ],
   "id": "7a406be26c20d206",
   "outputs": [],
   "execution_count": 31
  },
  {
   "metadata": {
    "ExecuteTime": {
     "end_time": "2025-03-10T07:38:33.363509Z",
     "start_time": "2025-03-10T07:38:33.318215Z"
    }
   },
   "cell_type": "code",
   "source": [
    "X_train, X_test, y_train, y_test = train_test_split(X, y, random_state=42)\n",
    "\n",
    "param_grid = {\n",
    "    'iterations': [500, 1000],\n",
    "    'depth': [4, 6, 8, 10],\n",
    "    'learning_rate': [0.01, 0.05, 0.1]\n",
    "}"
   ],
   "id": "4d7b19f0998dfa2a",
   "outputs": [],
   "execution_count": 43
  },
  {
   "metadata": {
    "ExecuteTime": {
     "end_time": "2025-03-10T08:42:06.222224Z",
     "start_time": "2025-03-10T07:38:34.394688Z"
    }
   },
   "cell_type": "code",
   "source": [
    "cat_boost = CatBoostRegressor(cat_features=cat_features, verbose=0)\n",
    "# cat_boost.fit(X_train, y_train)\n",
    "\n",
    "grid_search = GridSearchCV(cat_boost, param_grid, cv=5, scoring='r2')\n",
    "grid_search.fit(X, y, sample_weight=np.where(y <= 3, 10, 1))\n",
    "print(\"최적 파라미터:\", grid_search.best_params_)"
   ],
   "id": "32be21c2f36c36c5",
   "outputs": [
    {
     "name": "stdout",
     "output_type": "stream",
     "text": [
      "최적 파라미터: {'depth': 10, 'iterations': 1000, 'learning_rate': 0.1}\n"
     ]
    }
   ],
   "execution_count": 44
  },
  {
   "metadata": {
    "ExecuteTime": {
     "end_time": "2025-03-10T07:01:20.876144Z",
     "start_time": "2025-03-10T07:01:20.863897Z"
    }
   },
   "cell_type": "code",
   "source": [
    "# 평가\n",
    "y_pred_train = cat_boost.predict(X_train)\n",
    "y_pred_test = cat_boost.predict(X_test)"
   ],
   "id": "78f73f86c1cb3e05",
   "outputs": [],
   "execution_count": 37
  },
  {
   "metadata": {
    "ExecuteTime": {
     "end_time": "2025-03-10T07:01:22.361586Z",
     "start_time": "2025-03-10T07:01:22.353540Z"
    }
   },
   "cell_type": "code",
   "source": [
    "print(\"훈련 점수 (R²):\", r2_score(y_train, y_pred_train))\n",
    "print(\"테스트 점수 (R²):\", r2_score(y_test, y_pred_test))\n",
    "print(\"훈련 RMSE:\", root_mean_squared_error(y_train, y_pred_train, squared=False))\n",
    "print(\"테스트 RMSE:\", root_mean_squared_error(y_test, y_pred_test, squared=False))"
   ],
   "id": "4a53a50ee020a352",
   "outputs": [
    {
     "name": "stdout",
     "output_type": "stream",
     "text": [
      "훈련 점수 (R²): 0.27851779254813\n",
      "테스트 점수 (R²): 0.05502653981425354\n",
      "훈련 RMSE: 0.6913850974606907\n",
      "테스트 RMSE: 0.8025361827270289\n"
     ]
    },
    {
     "name": "stderr",
     "output_type": "stream",
     "text": [
      "C:\\Users\\user1\\anaconda3\\Lib\\site-packages\\sklearn\\metrics\\_regression.py:483: FutureWarning: 'squared' is deprecated in version 1.4 and will be removed in 1.6. To calculate the root mean squared error, use the function'root_mean_squared_error'.\n",
      "  warnings.warn(\n",
      "C:\\Users\\user1\\anaconda3\\Lib\\site-packages\\sklearn\\metrics\\_regression.py:483: FutureWarning: 'squared' is deprecated in version 1.4 and will be removed in 1.6. To calculate the root mean squared error, use the function'root_mean_squared_error'.\n",
      "  warnings.warn(\n"
     ]
    }
   ],
   "execution_count": 38
  },
  {
   "metadata": {
    "ExecuteTime": {
     "end_time": "2025-03-10T07:09:28.940545Z",
     "start_time": "2025-03-10T07:04:18.433481Z"
    }
   },
   "cell_type": "code",
   "source": [
    "# K-Fold 설정 (K=5)\n",
    "kfold = KFold(n_splits=10, shuffle=True, random_state=42)\n",
    "\n",
    "# 결과 저장용 리스트\n",
    "train_r2_scores = []\n",
    "test_r2_scores = []\n",
    "train_rmse_scores = []\n",
    "test_rmse_scores = []\n",
    "\n",
    "# K-Fold 학습 및 평가\n",
    "for train_idx, test_idx in kfold.split(X):\n",
    "    X_train, X_test = X.iloc[train_idx], X.iloc[test_idx]\n",
    "    y_train, y_test = y.iloc[train_idx], y.iloc[test_idx]\n",
    "\n",
    "    # 샘플 가중치\n",
    "    sample_weights = np.where(y_train <= 3, 10, 1)\n",
    "\n",
    "    # CatBoost 모델\n",
    "    cat_model = CatBoostRegressor(\n",
    "        iterations=1000,\n",
    "        depth=6,\n",
    "        learning_rate=0.1,\n",
    "        random_seed=42,\n",
    "        cat_features=cat_features,\n",
    "        verbose=0  # 출력 최소화\n",
    "    )\n",
    "\n",
    "    # 학습\n",
    "    cat_model.fit(X_train, y_train, sample_weight=sample_weights)\n",
    "\n",
    "    # 예측\n",
    "    y_train_pred = cat_model.predict(X_train)\n",
    "    y_test_pred = cat_model.predict(X_test)\n",
    "\n",
    "    # 평가\n",
    "    train_r2 = r2_score(y_train, y_train_pred)\n",
    "    test_r2 = r2_score(y_test, y_test_pred)\n",
    "    train_rmse = root_mean_squared_error(y_train, y_train_pred, squared=False)\n",
    "    test_rmse = root_mean_squared_error(y_test, y_test_pred, squared=False)\n",
    "\n",
    "    train_r2_scores.append(train_r2)\n",
    "    test_r2_scores.append(test_r2)\n",
    "    train_rmse_scores.append(train_rmse)\n",
    "    test_rmse_scores.append(test_rmse)\n",
    "\n",
    "# 결과 출력\n",
    "print(\"훈련 R² 평균:\", np.mean(train_r2_scores), \"표준편차:\", np.std(train_r2_scores))\n",
    "print(\"테스트 R² 평균:\", np.mean(test_r2_scores), \"표준편차:\", np.std(test_r2_scores))\n",
    "print(\"훈련 RMSE 평균:\", np.mean(train_rmse_scores), \"표준편차:\", np.std(train_rmse_scores))\n",
    "print(\"테스트 RMSE 평균:\", np.mean(test_rmse_scores), \"표준편차:\", np.std(test_rmse_scores))"
   ],
   "id": "48bcb3791ca920c",
   "outputs": [
    {
     "name": "stderr",
     "output_type": "stream",
     "text": [
      "C:\\Users\\user1\\anaconda3\\Lib\\site-packages\\sklearn\\metrics\\_regression.py:483: FutureWarning: 'squared' is deprecated in version 1.4 and will be removed in 1.6. To calculate the root mean squared error, use the function'root_mean_squared_error'.\n",
      "  warnings.warn(\n",
      "C:\\Users\\user1\\anaconda3\\Lib\\site-packages\\sklearn\\metrics\\_regression.py:483: FutureWarning: 'squared' is deprecated in version 1.4 and will be removed in 1.6. To calculate the root mean squared error, use the function'root_mean_squared_error'.\n",
      "  warnings.warn(\n",
      "C:\\Users\\user1\\anaconda3\\Lib\\site-packages\\sklearn\\metrics\\_regression.py:483: FutureWarning: 'squared' is deprecated in version 1.4 and will be removed in 1.6. To calculate the root mean squared error, use the function'root_mean_squared_error'.\n",
      "  warnings.warn(\n",
      "C:\\Users\\user1\\anaconda3\\Lib\\site-packages\\sklearn\\metrics\\_regression.py:483: FutureWarning: 'squared' is deprecated in version 1.4 and will be removed in 1.6. To calculate the root mean squared error, use the function'root_mean_squared_error'.\n",
      "  warnings.warn(\n",
      "C:\\Users\\user1\\anaconda3\\Lib\\site-packages\\sklearn\\metrics\\_regression.py:483: FutureWarning: 'squared' is deprecated in version 1.4 and will be removed in 1.6. To calculate the root mean squared error, use the function'root_mean_squared_error'.\n",
      "  warnings.warn(\n",
      "C:\\Users\\user1\\anaconda3\\Lib\\site-packages\\sklearn\\metrics\\_regression.py:483: FutureWarning: 'squared' is deprecated in version 1.4 and will be removed in 1.6. To calculate the root mean squared error, use the function'root_mean_squared_error'.\n",
      "  warnings.warn(\n",
      "C:\\Users\\user1\\anaconda3\\Lib\\site-packages\\sklearn\\metrics\\_regression.py:483: FutureWarning: 'squared' is deprecated in version 1.4 and will be removed in 1.6. To calculate the root mean squared error, use the function'root_mean_squared_error'.\n",
      "  warnings.warn(\n",
      "C:\\Users\\user1\\anaconda3\\Lib\\site-packages\\sklearn\\metrics\\_regression.py:483: FutureWarning: 'squared' is deprecated in version 1.4 and will be removed in 1.6. To calculate the root mean squared error, use the function'root_mean_squared_error'.\n",
      "  warnings.warn(\n",
      "C:\\Users\\user1\\anaconda3\\Lib\\site-packages\\sklearn\\metrics\\_regression.py:483: FutureWarning: 'squared' is deprecated in version 1.4 and will be removed in 1.6. To calculate the root mean squared error, use the function'root_mean_squared_error'.\n",
      "  warnings.warn(\n",
      "C:\\Users\\user1\\anaconda3\\Lib\\site-packages\\sklearn\\metrics\\_regression.py:483: FutureWarning: 'squared' is deprecated in version 1.4 and will be removed in 1.6. To calculate the root mean squared error, use the function'root_mean_squared_error'.\n",
      "  warnings.warn(\n",
      "C:\\Users\\user1\\anaconda3\\Lib\\site-packages\\sklearn\\metrics\\_regression.py:483: FutureWarning: 'squared' is deprecated in version 1.4 and will be removed in 1.6. To calculate the root mean squared error, use the function'root_mean_squared_error'.\n",
      "  warnings.warn(\n",
      "C:\\Users\\user1\\anaconda3\\Lib\\site-packages\\sklearn\\metrics\\_regression.py:483: FutureWarning: 'squared' is deprecated in version 1.4 and will be removed in 1.6. To calculate the root mean squared error, use the function'root_mean_squared_error'.\n",
      "  warnings.warn(\n",
      "C:\\Users\\user1\\anaconda3\\Lib\\site-packages\\sklearn\\metrics\\_regression.py:483: FutureWarning: 'squared' is deprecated in version 1.4 and will be removed in 1.6. To calculate the root mean squared error, use the function'root_mean_squared_error'.\n",
      "  warnings.warn(\n",
      "C:\\Users\\user1\\anaconda3\\Lib\\site-packages\\sklearn\\metrics\\_regression.py:483: FutureWarning: 'squared' is deprecated in version 1.4 and will be removed in 1.6. To calculate the root mean squared error, use the function'root_mean_squared_error'.\n",
      "  warnings.warn(\n",
      "C:\\Users\\user1\\anaconda3\\Lib\\site-packages\\sklearn\\metrics\\_regression.py:483: FutureWarning: 'squared' is deprecated in version 1.4 and will be removed in 1.6. To calculate the root mean squared error, use the function'root_mean_squared_error'.\n",
      "  warnings.warn(\n",
      "C:\\Users\\user1\\anaconda3\\Lib\\site-packages\\sklearn\\metrics\\_regression.py:483: FutureWarning: 'squared' is deprecated in version 1.4 and will be removed in 1.6. To calculate the root mean squared error, use the function'root_mean_squared_error'.\n",
      "  warnings.warn(\n",
      "C:\\Users\\user1\\anaconda3\\Lib\\site-packages\\sklearn\\metrics\\_regression.py:483: FutureWarning: 'squared' is deprecated in version 1.4 and will be removed in 1.6. To calculate the root mean squared error, use the function'root_mean_squared_error'.\n",
      "  warnings.warn(\n",
      "C:\\Users\\user1\\anaconda3\\Lib\\site-packages\\sklearn\\metrics\\_regression.py:483: FutureWarning: 'squared' is deprecated in version 1.4 and will be removed in 1.6. To calculate the root mean squared error, use the function'root_mean_squared_error'.\n",
      "  warnings.warn(\n"
     ]
    },
    {
     "name": "stdout",
     "output_type": "stream",
     "text": [
      "훈련 R² 평균: -0.5162281210233252 표준편차: 0.027407033185964703\n",
      "테스트 R² 평균: -0.7155182458402003 표준편차: 0.07186657890452681\n",
      "훈련 RMSE 평균: 1.0058385083830332 표준편차: 0.010234000305692393\n",
      "테스트 RMSE 평균: 1.0691336903109563 표준편차: 0.010544343926380735\n"
     ]
    },
    {
     "name": "stderr",
     "output_type": "stream",
     "text": [
      "C:\\Users\\user1\\anaconda3\\Lib\\site-packages\\sklearn\\metrics\\_regression.py:483: FutureWarning: 'squared' is deprecated in version 1.4 and will be removed in 1.6. To calculate the root mean squared error, use the function'root_mean_squared_error'.\n",
      "  warnings.warn(\n",
      "C:\\Users\\user1\\anaconda3\\Lib\\site-packages\\sklearn\\metrics\\_regression.py:483: FutureWarning: 'squared' is deprecated in version 1.4 and will be removed in 1.6. To calculate the root mean squared error, use the function'root_mean_squared_error'.\n",
      "  warnings.warn(\n"
     ]
    }
   ],
   "execution_count": 41
  },
  {
   "metadata": {
    "ExecuteTime": {
     "end_time": "2025-03-10T08:46:37.920893Z",
     "start_time": "2025-03-10T08:46:37.912377Z"
    }
   },
   "cell_type": "code",
   "source": "X.shape",
   "id": "3d30a4ae3966745a",
   "outputs": [
    {
     "data": {
      "text/plain": [
       "(30772, 14)"
      ]
     },
     "execution_count": 46,
     "metadata": {},
     "output_type": "execute_result"
    }
   ],
   "execution_count": 46
  },
  {
   "metadata": {
    "jupyter": {
     "is_executing": true
    },
    "ExecuteTime": {
     "start_time": "2025-03-10T08:47:10.426070Z"
    }
   },
   "cell_type": "code",
   "source": [
    "best_model = grid_search.best_estimator_\n",
    "\n",
    "# 전체 데이터 예측\n",
    "y_pred = best_model.predict(X)\n",
    "print(\"전체 데이터 R²:\", r2_score(y, y_pred))\n",
    "print(\"전체 데이터 RMSE:\", root_mean_squared_error(y, y_pred))\n",
    "\n",
    "X_train, X_test, y_train, y_test = train_test_split(X, y, test_size=0.2, random_state=42)\n",
    "best_model.fit(X_train, y_train, sample_weight=np.where(y_train <= 3, 10, 1))\n",
    "y_train_pred = best_model.predict(X_train)\n",
    "y_test_pred = best_model.predict(X_test)\n",
    "print(\"훈련 R²:\", r2_score(y_train, y_train_pred))\n",
    "print(\"테스트 R²:\", r2_score(y_test, y_test_pred))\n",
    "print(\"훈련 RMSE:\", root_mean_squared_error(y_train, y_train_pred))\n",
    "print(\"테스트 RMSE:\", root_mean_squared_error(y_test, y_test_pred))"
   ],
   "id": "7c675b0f9c1db383",
   "outputs": [
    {
     "name": "stdout",
     "output_type": "stream",
     "text": [
      "전체 데이터 R²: 0.21874904142807305\n",
      "전체 데이터 RMSE: 0.7220314910684418\n"
     ]
    }
   ],
   "execution_count": null
  },
  {
   "metadata": {},
   "cell_type": "code",
   "outputs": [],
   "execution_count": null,
   "source": "",
   "id": "eb9a4ae60156cf40"
  }
 ],
 "metadata": {
  "kernelspec": {
   "display_name": "Python 3",
   "language": "python",
   "name": "python3"
  },
  "language_info": {
   "codemirror_mode": {
    "name": "ipython",
    "version": 2
   },
   "file_extension": ".py",
   "mimetype": "text/x-python",
   "name": "python",
   "nbconvert_exporter": "python",
   "pygments_lexer": "ipython2",
   "version": "2.7.6"
  }
 },
 "nbformat": 4,
 "nbformat_minor": 5
}
