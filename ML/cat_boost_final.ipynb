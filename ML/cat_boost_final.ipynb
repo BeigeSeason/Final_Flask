{
 "cells": [
  {
   "cell_type": "code",
   "id": "2ebe0b502a397920",
   "metadata": {
    "ExecuteTime": {
     "end_time": "2025-03-13T03:40:53.487639Z",
     "start_time": "2025-03-13T03:40:53.480777Z"
    }
   },
   "source": [
    "# 필요한 라이브러리 임포트\n",
    "import pandas as pd\n",
    "import numpy as np\n",
    "from sklearn.preprocessing import LabelEncoder\n",
    "from sklearn.model_selection import train_test_split, GridSearchCV\n",
    "from sklearn.metrics import accuracy_score, classification_report\n",
    "from imblearn.over_sampling import SMOTE\n",
    "from catboost import CatBoostClassifier"
   ],
   "outputs": [],
   "execution_count": 11
  },
  {
   "metadata": {
    "ExecuteTime": {
     "end_time": "2025-03-13T02:35:21.885627Z",
     "start_time": "2025-03-13T02:35:20.321089Z"
    }
   },
   "cell_type": "code",
   "source": [
    "# 데이터 로드 및 전처리\n",
    "df = pd.read_csv('../csv/visit_all_in_one.csv', low_memory=False)\n",
    "df_filter = df[~df['TRAVEL_MISSION_CHECK'].isnull()].copy()\n",
    "df_filter['TRAVEL_MISSION_INT'] = df_filter['TRAVEL_MISSION_CHECK'].str.split(';').str[0].astype(int)"
   ],
   "id": "78672462c54c5706",
   "outputs": [],
   "execution_count": 2
  },
  {
   "metadata": {
    "ExecuteTime": {
     "end_time": "2025-03-13T02:35:22.092995Z",
     "start_time": "2025-03-13T02:35:22.040988Z"
    }
   },
   "cell_type": "code",
   "source": [
    "# 학습 데이터 준비\n",
    "df_learning = df_filter[[\n",
    "    'GENDER', 'AGE_GRP', 'TRAVEL_STYL_1', 'TRAVEL_STYL_2', 'TRAVEL_STYL_3',\n",
    "    'TRAVEL_STYL_4', 'TRAVEL_STYL_5', 'TRAVEL_STYL_6', 'TRAVEL_STYL_7',\n",
    "    'TRAVEL_STYL_8', 'TRAVEL_MOTIVE_1', 'TRAVEL_COMPANIONS_NUM',\n",
    "    'TRAVEL_MISSION_INT', 'VISIT_AREA_NM', 'VISIT_AREA_TYPE_CD', 'DGSTFN'\n",
    "]].dropna()\n",
    "\n",
    "df_learning['GENDER'] = df_learning['GENDER'].replace({'남': 1, '여': 0}).astype('int32')\n",
    "df_learning = df_learning[df_learning['VISIT_AREA_TYPE_CD'].isin(range(1, 9))]\n",
    "\n",
    "# 범주형 변수 목록\n",
    "cat_features = [\n",
    "    'GENDER', 'AGE_GRP', 'TRAVEL_STYL_1', 'TRAVEL_STYL_2', 'TRAVEL_STYL_3',\n",
    "    'TRAVEL_STYL_4', 'TRAVEL_STYL_5', 'TRAVEL_STYL_6', 'TRAVEL_STYL_7',\n",
    "    'TRAVEL_STYL_8', 'TRAVEL_MOTIVE_1', 'VISIT_AREA_TYPE_CD',\n",
    "    'TRAVEL_COMPANIONS_NUM', 'TRAVEL_MISSION_INT'\n",
    "]"
   ],
   "id": "db50445ee85577e",
   "outputs": [
    {
     "name": "stderr",
     "output_type": "stream",
     "text": [
      "C:\\Users\\user1\\AppData\\Local\\Temp\\ipykernel_14644\\1570140438.py:9: FutureWarning: Downcasting behavior in `replace` is deprecated and will be removed in a future version. To retain the old behavior, explicitly call `result.infer_objects(copy=False)`. To opt-in to the future behavior, set `pd.set_option('future.no_silent_downcasting', True)`\n",
      "  df_learning['GENDER'] = df_learning['GENDER'].replace({'남': 1, '여': 0}).astype('int32')\n"
     ]
    }
   ],
   "execution_count": 3
  },
  {
   "metadata": {
    "ExecuteTime": {
     "end_time": "2025-03-13T02:35:22.167803Z",
     "start_time": "2025-03-13T02:35:22.106834Z"
    }
   },
   "cell_type": "code",
   "source": [
    "# VISIT_AREA_NM을 숫자 코드로 변환\n",
    "le = LabelEncoder()\n",
    "df_learning['VISIT_AREA_NM_CODE'] = le.fit_transform(df_learning['VISIT_AREA_NM'])\n",
    "\n",
    "# 학습에 사용할 특징\n",
    "cat_features_extended = cat_features + ['VISIT_AREA_NM_CODE']\n",
    "X = df_learning[cat_features_extended].astype('int32')\n",
    "y = df_learning['DGSTFN']\n",
    "\n",
    "# SMOTE 적용\n",
    "smote = SMOTE(sampling_strategy={1.0: 2000, 2.0: 2000, 3.0: 4000}, random_state=42)\n",
    "X_resampled, y_resampled = smote.fit_resample(X, y)\n",
    "X_resampled = np.round(X_resampled).astype('int32')\n",
    "\n",
    "# 학습/테스트 데이터 분리\n",
    "X_train, X_test, y_train, y_test = train_test_split(\n",
    "    X_resampled, y_resampled, test_size=0.2, random_state=42\n",
    ")"
   ],
   "id": "4b63976c009ff9e0",
   "outputs": [],
   "execution_count": 4
  },
  {
   "metadata": {
    "ExecuteTime": {
     "end_time": "2025-03-13T05:51:50.800247Z",
     "start_time": "2025-03-13T03:41:59.597330Z"
    }
   },
   "cell_type": "code",
   "source": [
    "# 하이퍼파라미터 그리드 정의\n",
    "param_grid = {\n",
    "    'iterations': [500, 1000],\n",
    "    'learning_rate': [0.01, 0.1, 0.3],\n",
    "    'depth': [4, 6, 8],\n",
    "    'l2_leaf_reg': [1, 3, 5]\n",
    "}\n",
    "\n",
    "# CatBoost 모델 초기화\n",
    "base_model = CatBoostClassifier(\n",
    "    loss_function='MultiClass',\n",
    "    eval_metric='Accuracy',\n",
    "    cat_features=cat_features_extended,\n",
    "    random_seed=42,\n",
    "    verbose=0\n",
    ")\n",
    "\n",
    "# GridSearchCV 설정\n",
    "grid_search = GridSearchCV(\n",
    "    estimator=base_model,\n",
    "    param_grid=param_grid,\n",
    "    cv=3,\n",
    "    scoring='accuracy',\n",
    "    n_jobs=-1,\n",
    "    verbose=2\n",
    ")\n",
    "\n",
    "# GridSearchCV 실행\n",
    "print(\"Starting GridSearchCV (Es timated time: 24~27 minutes)...\")\n",
    "grid_search.fit(X_train, y_train)\n",
    "\n",
    "# 최적 파라미터 및 성능 출력\n",
    "print(\"Best Parameters:\", grid_search.best_params_)\n",
    "print(\"Best Cross-Validation Accuracy:\", grid_search.best_score_)"
   ],
   "id": "db67064b834ff3c0",
   "outputs": [
    {
     "name": "stdout",
     "output_type": "stream",
     "text": [
      "Starting GridSearchCV (Es timated time: 24~27 minutes)...\n",
      "Fitting 3 folds for each of 54 candidates, totalling 162 fits\n"
     ]
    },
    {
     "ename": "KeyboardInterrupt",
     "evalue": "",
     "output_type": "error",
     "traceback": [
      "\u001B[1;31m---------------------------------------------------------------------------\u001B[0m",
      "\u001B[1;31mKeyboardInterrupt\u001B[0m                         Traceback (most recent call last)",
      "Cell \u001B[1;32mIn[12], line 30\u001B[0m\n\u001B[0;32m     28\u001B[0m \u001B[38;5;66;03m# GridSearchCV 실행\u001B[39;00m\n\u001B[0;32m     29\u001B[0m \u001B[38;5;28mprint\u001B[39m(\u001B[38;5;124m\"\u001B[39m\u001B[38;5;124mStarting GridSearchCV (Es timated time: 24~27 minutes)...\u001B[39m\u001B[38;5;124m\"\u001B[39m)\n\u001B[1;32m---> 30\u001B[0m grid_search\u001B[38;5;241m.\u001B[39mfit(X_train, y_train)\n\u001B[0;32m     32\u001B[0m \u001B[38;5;66;03m# 최적 파라미터 및 성능 출력\u001B[39;00m\n\u001B[0;32m     33\u001B[0m \u001B[38;5;28mprint\u001B[39m(\u001B[38;5;124m\"\u001B[39m\u001B[38;5;124mBest Parameters:\u001B[39m\u001B[38;5;124m\"\u001B[39m, grid_search\u001B[38;5;241m.\u001B[39mbest_params_)\n",
      "File \u001B[1;32m~\\anaconda3\\Lib\\site-packages\\sklearn\\base.py:1474\u001B[0m, in \u001B[0;36m_fit_context.<locals>.decorator.<locals>.wrapper\u001B[1;34m(estimator, *args, **kwargs)\u001B[0m\n\u001B[0;32m   1467\u001B[0m     estimator\u001B[38;5;241m.\u001B[39m_validate_params()\n\u001B[0;32m   1469\u001B[0m \u001B[38;5;28;01mwith\u001B[39;00m config_context(\n\u001B[0;32m   1470\u001B[0m     skip_parameter_validation\u001B[38;5;241m=\u001B[39m(\n\u001B[0;32m   1471\u001B[0m         prefer_skip_nested_validation \u001B[38;5;129;01mor\u001B[39;00m global_skip_validation\n\u001B[0;32m   1472\u001B[0m     )\n\u001B[0;32m   1473\u001B[0m ):\n\u001B[1;32m-> 1474\u001B[0m     \u001B[38;5;28;01mreturn\u001B[39;00m fit_method(estimator, \u001B[38;5;241m*\u001B[39margs, \u001B[38;5;241m*\u001B[39m\u001B[38;5;241m*\u001B[39mkwargs)\n",
      "File \u001B[1;32m~\\anaconda3\\Lib\\site-packages\\sklearn\\model_selection\\_search.py:970\u001B[0m, in \u001B[0;36mBaseSearchCV.fit\u001B[1;34m(self, X, y, **params)\u001B[0m\n\u001B[0;32m    964\u001B[0m     results \u001B[38;5;241m=\u001B[39m \u001B[38;5;28mself\u001B[39m\u001B[38;5;241m.\u001B[39m_format_results(\n\u001B[0;32m    965\u001B[0m         all_candidate_params, n_splits, all_out, all_more_results\n\u001B[0;32m    966\u001B[0m     )\n\u001B[0;32m    968\u001B[0m     \u001B[38;5;28;01mreturn\u001B[39;00m results\n\u001B[1;32m--> 970\u001B[0m \u001B[38;5;28mself\u001B[39m\u001B[38;5;241m.\u001B[39m_run_search(evaluate_candidates)\n\u001B[0;32m    972\u001B[0m \u001B[38;5;66;03m# multimetric is determined here because in the case of a callable\u001B[39;00m\n\u001B[0;32m    973\u001B[0m \u001B[38;5;66;03m# self.scoring the return type is only known after calling\u001B[39;00m\n\u001B[0;32m    974\u001B[0m first_test_score \u001B[38;5;241m=\u001B[39m all_out[\u001B[38;5;241m0\u001B[39m][\u001B[38;5;124m\"\u001B[39m\u001B[38;5;124mtest_scores\u001B[39m\u001B[38;5;124m\"\u001B[39m]\n",
      "File \u001B[1;32m~\\anaconda3\\Lib\\site-packages\\sklearn\\model_selection\\_search.py:1527\u001B[0m, in \u001B[0;36mGridSearchCV._run_search\u001B[1;34m(self, evaluate_candidates)\u001B[0m\n\u001B[0;32m   1525\u001B[0m \u001B[38;5;28;01mdef\u001B[39;00m \u001B[38;5;21m_run_search\u001B[39m(\u001B[38;5;28mself\u001B[39m, evaluate_candidates):\n\u001B[0;32m   1526\u001B[0m \u001B[38;5;250m    \u001B[39m\u001B[38;5;124;03m\"\"\"Search all candidates in param_grid\"\"\"\u001B[39;00m\n\u001B[1;32m-> 1527\u001B[0m     evaluate_candidates(ParameterGrid(\u001B[38;5;28mself\u001B[39m\u001B[38;5;241m.\u001B[39mparam_grid))\n",
      "File \u001B[1;32m~\\anaconda3\\Lib\\site-packages\\sklearn\\model_selection\\_search.py:916\u001B[0m, in \u001B[0;36mBaseSearchCV.fit.<locals>.evaluate_candidates\u001B[1;34m(candidate_params, cv, more_results)\u001B[0m\n\u001B[0;32m    908\u001B[0m \u001B[38;5;28;01mif\u001B[39;00m \u001B[38;5;28mself\u001B[39m\u001B[38;5;241m.\u001B[39mverbose \u001B[38;5;241m>\u001B[39m \u001B[38;5;241m0\u001B[39m:\n\u001B[0;32m    909\u001B[0m     \u001B[38;5;28mprint\u001B[39m(\n\u001B[0;32m    910\u001B[0m         \u001B[38;5;124m\"\u001B[39m\u001B[38;5;124mFitting \u001B[39m\u001B[38;5;132;01m{0}\u001B[39;00m\u001B[38;5;124m folds for each of \u001B[39m\u001B[38;5;132;01m{1}\u001B[39;00m\u001B[38;5;124m candidates,\u001B[39m\u001B[38;5;124m\"\u001B[39m\n\u001B[0;32m    911\u001B[0m         \u001B[38;5;124m\"\u001B[39m\u001B[38;5;124m totalling \u001B[39m\u001B[38;5;132;01m{2}\u001B[39;00m\u001B[38;5;124m fits\u001B[39m\u001B[38;5;124m\"\u001B[39m\u001B[38;5;241m.\u001B[39mformat(\n\u001B[0;32m    912\u001B[0m             n_splits, n_candidates, n_candidates \u001B[38;5;241m*\u001B[39m n_splits\n\u001B[0;32m    913\u001B[0m         )\n\u001B[0;32m    914\u001B[0m     )\n\u001B[1;32m--> 916\u001B[0m out \u001B[38;5;241m=\u001B[39m parallel(\n\u001B[0;32m    917\u001B[0m     delayed(_fit_and_score)(\n\u001B[0;32m    918\u001B[0m         clone(base_estimator),\n\u001B[0;32m    919\u001B[0m         X,\n\u001B[0;32m    920\u001B[0m         y,\n\u001B[0;32m    921\u001B[0m         train\u001B[38;5;241m=\u001B[39mtrain,\n\u001B[0;32m    922\u001B[0m         test\u001B[38;5;241m=\u001B[39mtest,\n\u001B[0;32m    923\u001B[0m         parameters\u001B[38;5;241m=\u001B[39mparameters,\n\u001B[0;32m    924\u001B[0m         split_progress\u001B[38;5;241m=\u001B[39m(split_idx, n_splits),\n\u001B[0;32m    925\u001B[0m         candidate_progress\u001B[38;5;241m=\u001B[39m(cand_idx, n_candidates),\n\u001B[0;32m    926\u001B[0m         \u001B[38;5;241m*\u001B[39m\u001B[38;5;241m*\u001B[39mfit_and_score_kwargs,\n\u001B[0;32m    927\u001B[0m     )\n\u001B[0;32m    928\u001B[0m     \u001B[38;5;28;01mfor\u001B[39;00m (cand_idx, parameters), (split_idx, (train, test)) \u001B[38;5;129;01min\u001B[39;00m product(\n\u001B[0;32m    929\u001B[0m         \u001B[38;5;28menumerate\u001B[39m(candidate_params),\n\u001B[0;32m    930\u001B[0m         \u001B[38;5;28menumerate\u001B[39m(cv\u001B[38;5;241m.\u001B[39msplit(X, y, \u001B[38;5;241m*\u001B[39m\u001B[38;5;241m*\u001B[39mrouted_params\u001B[38;5;241m.\u001B[39msplitter\u001B[38;5;241m.\u001B[39msplit)),\n\u001B[0;32m    931\u001B[0m     )\n\u001B[0;32m    932\u001B[0m )\n\u001B[0;32m    934\u001B[0m \u001B[38;5;28;01mif\u001B[39;00m \u001B[38;5;28mlen\u001B[39m(out) \u001B[38;5;241m<\u001B[39m \u001B[38;5;241m1\u001B[39m:\n\u001B[0;32m    935\u001B[0m     \u001B[38;5;28;01mraise\u001B[39;00m \u001B[38;5;167;01mValueError\u001B[39;00m(\n\u001B[0;32m    936\u001B[0m         \u001B[38;5;124m\"\u001B[39m\u001B[38;5;124mNo fits were performed. \u001B[39m\u001B[38;5;124m\"\u001B[39m\n\u001B[0;32m    937\u001B[0m         \u001B[38;5;124m\"\u001B[39m\u001B[38;5;124mWas the CV iterator empty? \u001B[39m\u001B[38;5;124m\"\u001B[39m\n\u001B[0;32m    938\u001B[0m         \u001B[38;5;124m\"\u001B[39m\u001B[38;5;124mWere there no candidates?\u001B[39m\u001B[38;5;124m\"\u001B[39m\n\u001B[0;32m    939\u001B[0m     )\n",
      "File \u001B[1;32m~\\anaconda3\\Lib\\site-packages\\sklearn\\utils\\parallel.py:67\u001B[0m, in \u001B[0;36mParallel.__call__\u001B[1;34m(self, iterable)\u001B[0m\n\u001B[0;32m     62\u001B[0m config \u001B[38;5;241m=\u001B[39m get_config()\n\u001B[0;32m     63\u001B[0m iterable_with_config \u001B[38;5;241m=\u001B[39m (\n\u001B[0;32m     64\u001B[0m     (_with_config(delayed_func, config), args, kwargs)\n\u001B[0;32m     65\u001B[0m     \u001B[38;5;28;01mfor\u001B[39;00m delayed_func, args, kwargs \u001B[38;5;129;01min\u001B[39;00m iterable\n\u001B[0;32m     66\u001B[0m )\n\u001B[1;32m---> 67\u001B[0m \u001B[38;5;28;01mreturn\u001B[39;00m \u001B[38;5;28msuper\u001B[39m()\u001B[38;5;241m.\u001B[39m\u001B[38;5;21m__call__\u001B[39m(iterable_with_config)\n",
      "File \u001B[1;32m~\\anaconda3\\Lib\\site-packages\\joblib\\parallel.py:2007\u001B[0m, in \u001B[0;36mParallel.__call__\u001B[1;34m(self, iterable)\u001B[0m\n\u001B[0;32m   2001\u001B[0m \u001B[38;5;66;03m# The first item from the output is blank, but it makes the interpreter\u001B[39;00m\n\u001B[0;32m   2002\u001B[0m \u001B[38;5;66;03m# progress until it enters the Try/Except block of the generator and\u001B[39;00m\n\u001B[0;32m   2003\u001B[0m \u001B[38;5;66;03m# reaches the first `yield` statement. This starts the asynchronous\u001B[39;00m\n\u001B[0;32m   2004\u001B[0m \u001B[38;5;66;03m# dispatch of the tasks to the workers.\u001B[39;00m\n\u001B[0;32m   2005\u001B[0m \u001B[38;5;28mnext\u001B[39m(output)\n\u001B[1;32m-> 2007\u001B[0m \u001B[38;5;28;01mreturn\u001B[39;00m output \u001B[38;5;28;01mif\u001B[39;00m \u001B[38;5;28mself\u001B[39m\u001B[38;5;241m.\u001B[39mreturn_generator \u001B[38;5;28;01melse\u001B[39;00m \u001B[38;5;28mlist\u001B[39m(output)\n",
      "File \u001B[1;32m~\\anaconda3\\Lib\\site-packages\\joblib\\parallel.py:1650\u001B[0m, in \u001B[0;36mParallel._get_outputs\u001B[1;34m(self, iterator, pre_dispatch)\u001B[0m\n\u001B[0;32m   1647\u001B[0m     \u001B[38;5;28;01myield\u001B[39;00m\n\u001B[0;32m   1649\u001B[0m     \u001B[38;5;28;01mwith\u001B[39;00m \u001B[38;5;28mself\u001B[39m\u001B[38;5;241m.\u001B[39m_backend\u001B[38;5;241m.\u001B[39mretrieval_context():\n\u001B[1;32m-> 1650\u001B[0m         \u001B[38;5;28;01myield from\u001B[39;00m \u001B[38;5;28mself\u001B[39m\u001B[38;5;241m.\u001B[39m_retrieve()\n\u001B[0;32m   1652\u001B[0m \u001B[38;5;28;01mexcept\u001B[39;00m \u001B[38;5;167;01mGeneratorExit\u001B[39;00m:\n\u001B[0;32m   1653\u001B[0m     \u001B[38;5;66;03m# The generator has been garbage collected before being fully\u001B[39;00m\n\u001B[0;32m   1654\u001B[0m     \u001B[38;5;66;03m# consumed. This aborts the remaining tasks if possible and warn\u001B[39;00m\n\u001B[0;32m   1655\u001B[0m     \u001B[38;5;66;03m# the user if necessary.\u001B[39;00m\n\u001B[0;32m   1656\u001B[0m     \u001B[38;5;28mself\u001B[39m\u001B[38;5;241m.\u001B[39m_exception \u001B[38;5;241m=\u001B[39m \u001B[38;5;28;01mTrue\u001B[39;00m\n",
      "File \u001B[1;32m~\\anaconda3\\Lib\\site-packages\\joblib\\parallel.py:1762\u001B[0m, in \u001B[0;36mParallel._retrieve\u001B[1;34m(self)\u001B[0m\n\u001B[0;32m   1757\u001B[0m \u001B[38;5;66;03m# If the next job is not ready for retrieval yet, we just wait for\u001B[39;00m\n\u001B[0;32m   1758\u001B[0m \u001B[38;5;66;03m# async callbacks to progress.\u001B[39;00m\n\u001B[0;32m   1759\u001B[0m \u001B[38;5;28;01mif\u001B[39;00m ((\u001B[38;5;28mlen\u001B[39m(\u001B[38;5;28mself\u001B[39m\u001B[38;5;241m.\u001B[39m_jobs) \u001B[38;5;241m==\u001B[39m \u001B[38;5;241m0\u001B[39m) \u001B[38;5;129;01mor\u001B[39;00m\n\u001B[0;32m   1760\u001B[0m     (\u001B[38;5;28mself\u001B[39m\u001B[38;5;241m.\u001B[39m_jobs[\u001B[38;5;241m0\u001B[39m]\u001B[38;5;241m.\u001B[39mget_status(\n\u001B[0;32m   1761\u001B[0m         timeout\u001B[38;5;241m=\u001B[39m\u001B[38;5;28mself\u001B[39m\u001B[38;5;241m.\u001B[39mtimeout) \u001B[38;5;241m==\u001B[39m TASK_PENDING)):\n\u001B[1;32m-> 1762\u001B[0m     time\u001B[38;5;241m.\u001B[39msleep(\u001B[38;5;241m0.01\u001B[39m)\n\u001B[0;32m   1763\u001B[0m     \u001B[38;5;28;01mcontinue\u001B[39;00m\n\u001B[0;32m   1765\u001B[0m \u001B[38;5;66;03m# We need to be careful: the job list can be filling up as\u001B[39;00m\n\u001B[0;32m   1766\u001B[0m \u001B[38;5;66;03m# we empty it and Python list are not thread-safe by\u001B[39;00m\n\u001B[0;32m   1767\u001B[0m \u001B[38;5;66;03m# default hence the use of the lock\u001B[39;00m\n",
      "\u001B[1;31mKeyboardInterrupt\u001B[0m: "
     ]
    }
   ],
   "execution_count": 12
  },
  {
   "metadata": {
    "ExecuteTime": {
     "end_time": "2025-03-13T02:37:30.141998Z",
     "start_time": "2025-03-13T02:35:22.188520Z"
    }
   },
   "cell_type": "code",
   "outputs": [
    {
     "name": "stdout",
     "output_type": "stream",
     "text": [
      "0:\tlearn: 0.4598460\ttest: 0.4600117\tbest: 0.4600117 (0)\ttotal: 205ms\tremaining: 3m 25s\n",
      "100:\tlearn: 0.5368701\ttest: 0.5255400\tbest: 0.5255400 (100)\ttotal: 12.6s\tremaining: 1m 51s\n",
      "200:\tlearn: 0.5619002\ttest: 0.5407180\tbest: 0.5411559 (186)\ttotal: 25s\tremaining: 1m 39s\n",
      "300:\tlearn: 0.5821505\ttest: 0.5477233\tbest: 0.5477233 (287)\ttotal: 37.6s\tremaining: 1m 27s\n",
      "400:\tlearn: 0.6032400\ttest: 0.5537069\tbest: 0.5537069 (400)\ttotal: 50.4s\tremaining: 1m 15s\n",
      "500:\tlearn: 0.6205714\ttest: 0.5560420\tbest: 0.5564799 (498)\ttotal: 1m 3s\tremaining: 1m 2s\n",
      "600:\tlearn: 0.6391068\ttest: 0.5564799\tbest: 0.5576474 (529)\ttotal: 1m 15s\tremaining: 50.4s\n",
      "700:\tlearn: 0.6558543\ttest: 0.5580852\tbest: 0.5583771 (619)\ttotal: 1m 28s\tremaining: 37.9s\n",
      "800:\tlearn: 0.6712884\ttest: 0.5576474\tbest: 0.5605663 (758)\ttotal: 1m 41s\tremaining: 25.3s\n",
      "900:\tlearn: 0.6889116\ttest: 0.5608581\tbest: 0.5623176 (885)\ttotal: 1m 54s\tremaining: 12.6s\n",
      "999:\tlearn: 0.7052213\ttest: 0.5631932\tbest: 0.5645067 (960)\ttotal: 2m 7s\tremaining: 0us\n",
      "\n",
      "bestTest = 0.5645067134\n",
      "bestIteration = 960\n",
      "\n",
      "Shrink model to first 961 iterations.\n",
      "Full Test Set Accuracy: 0.5645067133683596\n",
      "Classification Report:\n",
      "               precision    recall  f1-score   support\n",
      "\n",
      "         1.0       0.66      0.60      0.63       383\n",
      "         2.0       0.67      0.38      0.48       399\n",
      "         3.0       0.36      0.03      0.06       789\n",
      "         4.0       0.50      0.54      0.52      2329\n",
      "         5.0       0.59      0.75      0.66      2952\n",
      "\n",
      "    accuracy                           0.56      6852\n",
      "   macro avg       0.56      0.46      0.47      6852\n",
      "weighted avg       0.54      0.56      0.53      6852\n",
      "\n"
     ]
    }
   ],
   "execution_count": 5,
   "source": [
    "\n",
    "# CatBoost 모델 학습\n",
    "model = CatBoostClassifier(\n",
    "    iterations=1000,\n",
    "    learning_rate=0.1,\n",
    "    depth=6,\n",
    "    loss_function='MultiClass',\n",
    "    eval_metric='Accuracy',\n",
    "    random_seed=42,\n",
    "    verbose=100\n",
    ")\n",
    "model.fit(X_train, y_train, cat_features=cat_features_extended, eval_set=(X_test, y_test))\n",
    "\n",
    "# 전체 테스트 셋 성능 평가\n",
    "y_pred = model.predict(X_test)\n",
    "print(\"Full Test Set Accuracy:\", accuracy_score(y_test, y_pred))\n",
    "print(\"Classification Report:\\n\", classification_report(y_test, y_pred))"
   ],
   "id": "5c22c06ff0a6e9f7"
  },
  {
   "metadata": {
    "ExecuteTime": {
     "end_time": "2025-03-13T02:37:30.188591Z",
     "start_time": "2025-03-13T02:37:30.183346Z"
    }
   },
   "cell_type": "code",
   "source": [
    "\n",
    "# 추천 함수\n",
    "def recommend_top_travel_destinations(user_input, model, df_learning, top_n=10):\n",
    "    destinations = df_learning[['VISIT_AREA_NM', 'VISIT_AREA_TYPE_CD']].drop_duplicates()\n",
    "    destinations['VISIT_AREA_NM_CODE'] = le.transform(destinations['VISIT_AREA_NM'])\n",
    "\n",
    "    prediction_data = []\n",
    "    for _, row in destinations.iterrows():\n",
    "        combined_input = user_input.copy()\n",
    "        combined_input['VISIT_AREA_TYPE_CD'] = row['VISIT_AREA_TYPE_CD']\n",
    "        combined_input['VISIT_AREA_NM_CODE'] = row['VISIT_AREA_NM_CODE']\n",
    "        prediction_data.append(combined_input)\n",
    "\n",
    "    prediction_df = pd.DataFrame(prediction_data, columns=cat_features_extended)\n",
    "    prediction_df[cat_features_extended] = prediction_df[cat_features_extended].astype('int32')\n",
    "\n",
    "    proba = model.predict_proba(prediction_df)\n",
    "    prob_5 = proba[:, 4]  # 5.0 확률 (인덱스 4)\n",
    "\n",
    "    recommendations = pd.DataFrame({\n",
    "        'VISIT_AREA_NM': destinations['VISIT_AREA_NM'],\n",
    "        'VISIT_AREA_TYPE_CD': destinations['VISIT_AREA_TYPE_CD'],\n",
    "        'Probability_5.0': prob_5\n",
    "    })\n",
    "    return recommendations.nlargest(top_n, 'Probability_5.0')"
   ],
   "id": "33babf738d839376",
   "outputs": [],
   "execution_count": 6
  },
  {
   "metadata": {
    "ExecuteTime": {
     "end_time": "2025-03-13T02:37:30.503816Z",
     "start_time": "2025-03-13T02:37:30.188591Z"
    }
   },
   "cell_type": "code",
   "source": [
    "\n",
    "# 예시 사용자 입력\n",
    "user_input = {\n",
    "    'GENDER': 1, 'AGE_GRP': 3, 'TRAVEL_STYL_1': 1, 'TRAVEL_STYL_2': 2,\n",
    "    'TRAVEL_STYL_3': 1, 'TRAVEL_STYL_4': 2, 'TRAVEL_STYL_5': 1,\n",
    "    'TRAVEL_STYL_6': 1, 'TRAVEL_STYL_7': 1, 'TRAVEL_STYL_8': 2,\n",
    "    'TRAVEL_MOTIVE_1': 1, 'TRAVEL_COMPANIONS_NUM': 2, 'TRAVEL_MISSION_INT': 1\n",
    "}\n",
    "\n",
    "# 추천 실행\n",
    "recommendations = recommend_top_travel_destinations(user_input, model, df_learning)\n",
    "print(\"\\nTop 10 Recommended Destinations:\")\n",
    "print(recommendations)\n",
    "\n",
    "# 테스트 셋 샘플 예측\n",
    "n_samples = 10\n",
    "sample_indices = np.random.choice(X_test.index, size=n_samples, replace=False)\n",
    "X_test_sample = X_test.loc[sample_indices]\n",
    "y_test_sample = y_test.loc[sample_indices]\n",
    "\n",
    "y_pred_sample = model.predict(X_test_sample)\n",
    "proba_sample = model.predict_proba(X_test_sample)\n",
    "prob_5_sample = proba_sample[:, 4]\n",
    "\n",
    "comparison_df = pd.DataFrame({\n",
    "    'Actual_Satisfaction': y_test_sample,\n",
    "    'Predicted_Satisfaction': y_pred_sample.flatten(),\n",
    "    'Probability_5.0': prob_5_sample\n",
    "}, index=sample_indices)"
   ],
   "id": "246b9d68154ee9d6",
   "outputs": [
    {
     "name": "stdout",
     "output_type": "stream",
     "text": [
      "\n",
      "Top 10 Recommended Destinations:\n",
      "       VISIT_AREA_NM  VISIT_AREA_TYPE_CD  Probability_5.0\n",
      "31651   태화강국가정원 십리대숲                   7         0.408533\n",
      "103015       한라산국립공원                   1         0.403646\n",
      "760              덕수궁                   2         0.391664\n",
      "70438    전북대학교 전주캠퍼스                   7         0.381596\n",
      "106101       서우봉 산책로                   7         0.379590\n",
      "115855            우도                   7         0.378461\n",
      "110989         스누피가든                   7         0.371141\n",
      "102878        쏠비치 진도                   7         0.367684\n",
      "30773   태화강국가정원 십리대숲                   1         0.363457\n",
      "68313         담양관방제림                   7         0.361022\n"
     ]
    }
   ],
   "execution_count": 7
  },
  {
   "metadata": {
    "collapsed": true,
    "ExecuteTime": {
     "end_time": "2025-03-13T02:37:33.544101Z",
     "start_time": "2025-03-13T02:37:30.553344Z"
    }
   },
   "cell_type": "code",
   "source": [
    "\n",
    "print(\"\\nTest Set Sample Predictions vs Actual:\")\n",
    "print(comparison_df)\n",
    "\n",
    "print(\"\\nRecommendations for Each Sample:\")\n",
    "for idx in sample_indices:\n",
    "    user_input = X_test_sample.loc[idx].to_dict()\n",
    "    user_input_clean = {k: v for k, v in user_input.items() if k != 'VISIT_AREA_TYPE_CD'}\n",
    "    recommendations = recommend_top_travel_destinations(user_input_clean, model, df_learning, top_n=3)\n",
    "    print(f\"\\nSample {idx}:\")\n",
    "    print(f\"Actual: {y_test_sample.loc[idx]}, Predicted: {y_pred_sample[sample_indices.tolist().index(idx)]}, Prob 5.0: {prob_5_sample[sample_indices.tolist().index(idx)]:.4f}\")\n",
    "    print(\"Top 3 Recommended Destinations:\")\n",
    "    print(recommendations)"
   ],
   "id": "initial_id",
   "outputs": [
    {
     "name": "stdout",
     "output_type": "stream",
     "text": [
      "\n",
      "Test Set Sample Predictions vs Actual:\n",
      "       Actual_Satisfaction  Predicted_Satisfaction  Probability_5.0\n",
      "11227                  4.0                     5.0         0.667212\n",
      "25756                  3.0                     4.0         0.343412\n",
      "13022                  4.0                     5.0         0.458636\n",
      "26540                  2.0                     4.0         0.163053\n",
      "7212                   5.0                     5.0         0.850229\n",
      "13722                  5.0                     5.0         0.603735\n",
      "22926                  5.0                     5.0         0.797065\n",
      "30408                  4.0                     4.0         0.228389\n",
      "8087                   4.0                     5.0         0.579189\n",
      "10917                  5.0                     5.0         0.675757\n",
      "\n",
      "Recommendations for Each Sample:\n",
      "\n",
      "Sample 11227:\n",
      "Actual: 4.0, Predicted: [5.], Prob 5.0: 0.6672\n",
      "Top 3 Recommended Destinations:\n",
      "       VISIT_AREA_NM  VISIT_AREA_TYPE_CD  Probability_5.0\n",
      "113270       한라산국립공원                   2         0.866783\n",
      "760              덕수궁                   2         0.862161\n",
      "3883             월정교                   2         0.859735\n",
      "\n",
      "Sample 25756:\n",
      "Actual: 3.0, Predicted: [4.], Prob 5.0: 0.3434\n",
      "Top 3 Recommended Destinations:\n",
      "       VISIT_AREA_NM  VISIT_AREA_TYPE_CD  Probability_5.0\n",
      "32561    파크로쉬리조트앤웰니스                   5         0.635190\n",
      "74945    라마다 여수해상짚트랙                   5         0.602866\n",
      "150820       목장카페 밭디                   5         0.594677\n",
      "\n",
      "Sample 13022:\n",
      "Actual: 4.0, Predicted: [5.], Prob 5.0: 0.4586\n",
      "Top 3 Recommended Destinations:\n",
      "     VISIT_AREA_NM  VISIT_AREA_TYPE_CD  Probability_5.0\n",
      "2700        남산서울타워                   3         0.705762\n",
      "1303       마이아트뮤지엄                   3         0.682520\n",
      "8057           창경궁                   3         0.676802\n",
      "\n",
      "Sample 26540:\n",
      "Actual: 2.0, Predicted: [4.], Prob 5.0: 0.1631\n",
      "Top 3 Recommended Destinations:\n",
      "      VISIT_AREA_NM  VISIT_AREA_TYPE_CD  Probability_5.0\n",
      "76588        전주덕진공원                   3         0.582480\n",
      "6098          서울대공원                   3         0.578173\n",
      "54749   연세대학교 미래캠퍼스                   3         0.563773\n",
      "\n",
      "Sample 7212:\n",
      "Actual: 5.0, Predicted: [5.], Prob 5.0: 0.8502\n",
      "Top 3 Recommended Destinations:\n",
      "      VISIT_AREA_NM  VISIT_AREA_TYPE_CD  Probability_5.0\n",
      "32561   파크로쉬리조트앤웰니스                   5         0.931577\n",
      "36460      하이원 워터월드                   5         0.929570\n",
      "30031       송도센트럴파크                   5         0.928196\n",
      "\n",
      "Sample 13722:\n",
      "Actual: 5.0, Predicted: [5.], Prob 5.0: 0.6037\n",
      "Top 3 Recommended Destinations:\n",
      "       VISIT_AREA_NM  VISIT_AREA_TYPE_CD  Probability_5.0\n",
      "103446         포도뮤지엄                   3         0.667997\n",
      "102185         스누피가든                   3         0.662816\n",
      "31727            대왕암                   2         0.658750\n",
      "\n",
      "Sample 22926:\n",
      "Actual: 5.0, Predicted: [5.], Prob 5.0: 0.7971\n",
      "Top 3 Recommended Destinations:\n",
      "       VISIT_AREA_NM  VISIT_AREA_TYPE_CD  Probability_5.0\n",
      "32561    파크로쉬리조트앤웰니스                   5         0.872831\n",
      "120966       한라산국립공원                   7         0.859304\n",
      "74945    라마다 여수해상짚트랙                   5         0.858209\n",
      "\n",
      "Sample 30408:\n",
      "Actual: 4.0, Predicted: [4.], Prob 5.0: 0.2284\n",
      "Top 3 Recommended Destinations:\n",
      "       VISIT_AREA_NM  VISIT_AREA_TYPE_CD  Probability_5.0\n",
      "68867           광한루원                   3         0.532775\n",
      "102185         스누피가든                   3         0.512967\n",
      "105451         스누피가든                   6         0.505900\n",
      "\n",
      "Sample 8087:\n",
      "Actual: 4.0, Predicted: [5.], Prob 5.0: 0.5792\n",
      "Top 3 Recommended Destinations:\n",
      "      VISIT_AREA_NM  VISIT_AREA_TYPE_CD  Probability_5.0\n",
      "2700         남산서울타워                   3         0.870746\n",
      "35549   KT&G상상마당 부산                   3         0.863828\n",
      "45877    대구삼성라이온즈파크                   3         0.863828\n",
      "\n",
      "Sample 10917:\n",
      "Actual: 5.0, Predicted: [5.], Prob 5.0: 0.6758\n",
      "Top 3 Recommended Destinations:\n",
      "      VISIT_AREA_NM  VISIT_AREA_TYPE_CD  Probability_5.0\n",
      "2174         캐리비안베이                   6         0.777821\n",
      "10731      문경새재도립공원                   1         0.776736\n",
      "30773  태화강국가정원 십리대숲                   1         0.774345\n"
     ]
    }
   ],
   "execution_count": 8
  }
 ],
 "metadata": {
  "kernelspec": {
   "display_name": "Python 3",
   "language": "python",
   "name": "python3"
  },
  "language_info": {
   "codemirror_mode": {
    "name": "ipython",
    "version": 2
   },
   "file_extension": ".py",
   "mimetype": "text/x-python",
   "name": "python",
   "nbconvert_exporter": "python",
   "pygments_lexer": "ipython2",
   "version": "2.7.6"
  }
 },
 "nbformat": 4,
 "nbformat_minor": 5
}
