{
 "cells": [
  {
   "cell_type": "code",
   "id": "initial_id",
   "metadata": {
    "collapsed": true,
    "ExecuteTime": {
     "end_time": "2025-03-02T12:56:03.053742Z",
     "start_time": "2025-03-02T12:56:02.542705Z"
    }
   },
   "source": [
    "import pandas as pd\n",
    "import numpy as np"
   ],
   "outputs": [],
   "execution_count": 1
  },
  {
   "metadata": {
    "ExecuteTime": {
     "end_time": "2025-03-02T13:42:08.578979Z",
     "start_time": "2025-03-02T13:42:08.070402Z"
    }
   },
   "cell_type": "code",
   "source": [
    "area_a = pd.read_csv('../csv/capital/tn_visit_area_info_방문지정보_A.csv', low_memory=False)\n",
    "area_b = pd.read_csv('../csv/east/tn_visit_area_info_방문지정보_B.csv', low_memory=False)\n",
    "area_c = pd.read_csv('../csv/west/tn_visit_area_info_방문지정보_C.csv', low_memory=False)\n",
    "area_d = pd.read_csv('../csv/jeju/tn_visit_area_info_방문지정보_D.csv', low_memory=False)\n",
    "\n",
    "travel_a = pd.read_csv('../csv/capital/tn_travel_여행_A.csv', low_memory=False)\n",
    "travel_b = pd.read_csv('../csv/east/tn_travel_여행_B.csv', low_memory=False)\n",
    "travel_c = pd.read_csv('../csv/west/tn_travel_여행_C.csv', low_memory=False)\n",
    "travel_d = pd.read_csv('../csv/jeju/tn_travel_여행_D.csv', low_memory=False)\n",
    "\n",
    "traveller_a = pd.read_csv('../csv/capital/tn_traveller_master_여행객_Master_A.csv', low_memory=False)\n",
    "traveller_b = pd.read_csv('../csv/east/tn_traveller_master_여행객_Master_B.csv', low_memory=False)\n",
    "traveller_c = pd.read_csv('../csv/west/tn_traveller_master_여행객_Master_C.csv', low_memory=False)\n",
    "traveller_d = pd.read_csv('../csv/jeju/tn_traveller_master_여행객_Master_D.csv', low_memory=False)"
   ],
   "id": "4eda2b692b6ca329",
   "outputs": [],
   "execution_count": 4
  },
  {
   "metadata": {
    "ExecuteTime": {
     "end_time": "2025-03-02T13:45:56.457449Z",
     "start_time": "2025-03-02T13:45:56.436708Z"
    }
   },
   "cell_type": "code",
   "source": [
    "area_all = pd.concat([area_a, area_b, area_c, area_d], axis=0, ignore_index=True)\n",
    "travel_all = pd.concat([travel_a, travel_b, travel_c, travel_d], axis=0, ignore_index=True)\n",
    "traveller_all = pd.concat([traveller_a, traveller_b, traveller_c, traveller_d], axis=0, ignore_index=True)"
   ],
   "id": "6db3b1b378fe0a33",
   "outputs": [],
   "execution_count": 5
  },
  {
   "metadata": {
    "ExecuteTime": {
     "end_time": "2025-03-02T13:47:00.640661Z",
     "start_time": "2025-03-02T13:46:59.360912Z"
    }
   },
   "cell_type": "code",
   "source": [
    "area_all.to_csv('../csv/tn_visit_area_all.csv', index=False)\n",
    "travel_all.to_csv('../csv/tn_visit_travel_all.csv', index=False)\n",
    "traveller_all.to_csv('../csv/tn_visit_traveller_all.csv', index=False)"
   ],
   "id": "f55b4e56f3d3bfa5",
   "outputs": [],
   "execution_count": 7
  },
  {
   "metadata": {},
   "cell_type": "code",
   "outputs": [],
   "execution_count": null,
   "source": "",
   "id": "ad667078bed5d1f6"
  }
 ],
 "metadata": {
  "kernelspec": {
   "display_name": "Python 3",
   "language": "python",
   "name": "python3"
  },
  "language_info": {
   "codemirror_mode": {
    "name": "ipython",
    "version": 2
   },
   "file_extension": ".py",
   "mimetype": "text/x-python",
   "name": "python",
   "nbconvert_exporter": "python",
   "pygments_lexer": "ipython2",
   "version": "2.7.6"
  }
 },
 "nbformat": 4,
 "nbformat_minor": 5
}
